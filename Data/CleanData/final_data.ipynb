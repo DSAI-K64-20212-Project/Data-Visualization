{
  "nbformat": 4,
  "nbformat_minor": 0,
  "metadata": {
    "colab": {
      "name": "final_data.ipynb",
      "provenance": []
    },
    "kernelspec": {
      "name": "python3",
      "display_name": "Python 3"
    },
    "language_info": {
      "name": "python"
    }
  },
  "cells": [
    {
      "cell_type": "markdown",
      "source": [
        "# 1. Import"
      ],
      "metadata": {
        "id": "JKYamZhqRfNi"
      }
    },
    {
      "cell_type": "code",
      "source": [
        "import pandas as pd\n",
        "import numpy as np\n",
        "import matplotlib.pyplot as plt"
      ],
      "metadata": {
        "id": "PidxpQl6QQRC"
      },
      "execution_count": 12,
      "outputs": []
    },
    {
      "cell_type": "markdown",
      "source": [
        "# 2. Read data"
      ],
      "metadata": {
        "id": "DX_Ec85LRh6R"
      }
    },
    {
      "cell_type": "code",
      "execution_count": 9,
      "metadata": {
        "id": "m4gkqu8FKMzr"
      },
      "outputs": [],
      "source": [
        "noc_region_df = pd.read_csv(\"./Data/noc_regions.csv\")\n",
        "athlete_events_df = pd.read_csv(\"./Data/athlete_events.csv\")"
      ]
    },
    {
      "cell_type": "markdown",
      "source": [
        "# 3. Merge data"
      ],
      "metadata": {
        "id": "eMdYSU3uRnrS"
      }
    },
    {
      "cell_type": "code",
      "source": [
        "df = pd.merge(athlete_events_df, noc_region_df)\n",
        "df = df.rename(columns={'region':'Region', 'notes':'Notes'})\n",
        "print(\"All duplicated values: \", str(df.duplicated().sum()))\n",
        "df = df.drop_duplicates()"
      ],
      "metadata": {
        "colab": {
          "base_uri": "https://localhost:8080/"
        },
        "id": "8Jb2OwTPRdru",
        "outputId": "cf8c5f7a-92cc-4d91-f0f3-e5dae41e29cc"
      },
      "execution_count": 10,
      "outputs": [
        {
          "output_type": "stream",
          "name": "stdout",
          "text": [
            "All duplicated values:  1385\n"
          ]
        }
      ]
    },
    {
      "cell_type": "markdown",
      "source": [
        "# 4. Fill Null"
      ],
      "metadata": {
        "id": "3LfhhY3TSAsS"
      }
    },
    {
      "cell_type": "code",
      "source": [
        "df.isnull().sum()"
      ],
      "metadata": {
        "colab": {
          "base_uri": "https://localhost:8080/"
        },
        "id": "4H4Lib78SvGt",
        "outputId": "060850b5-91ed-4761-9c9f-27603cbdefdb"
      },
      "execution_count": 11,
      "outputs": [
        {
          "output_type": "execute_result",
          "data": {
            "text/plain": [
              "ID             0\n",
              "Name           0\n",
              "Sex            0\n",
              "Age         9303\n",
              "Height     58726\n",
              "Weight     61437\n",
              "Team           0\n",
              "NOC            0\n",
              "Games          0\n",
              "Year           0\n",
              "Season         0\n",
              "City           0\n",
              "Sport          0\n",
              "Event          0\n",
              "Medal     229619\n",
              "Region        21\n",
              "Notes     264347\n",
              "dtype: int64"
            ]
          },
          "metadata": {},
          "execution_count": 11
        }
      ]
    },
    {
      "cell_type": "code",
      "source": [
        "df[\"miss_data\"] = df.isnull().sum(1)\n",
        "n_miss_data=df.groupby(['Year'])['miss_data'].sum().sort_values(ascending=True)\n",
        "plt.figure(figsize=(15,10))\n",
        "plt.title(\"Missing data\", size=25)\n",
        "plt.xlabel(\"Number\")\n",
        "n_miss_data.plot(kind='barh', color='pink')"
      ],
      "metadata": {
        "colab": {
          "base_uri": "https://localhost:8080/",
          "height": 647
        },
        "id": "O3piRoVsS0gK",
        "outputId": "025a7ec6-06a7-4a65-87d5-9a95e2a3ec01"
      },
      "execution_count": 18,
      "outputs": [
        {
          "output_type": "execute_result",
          "data": {
            "text/plain": [
              "<matplotlib.axes._subplots.AxesSubplot at 0x7f5a37e9b850>"
            ]
          },
          "metadata": {},
          "execution_count": 18
        },
        {
          "output_type": "display_data",
          "data": {
            "text/plain": [
              "<Figure size 1080x720 with 1 Axes>"
            ],
            "image/png": "[encoded data removed]"
          },
          "metadata": {
            "needs_background": "light"
          }
        }
      ]
    },
    {
      "cell_type": "code",
      "source": [
        "# ------- Fill by mean() ----- #\n",
        "df['Age'].fillna((df['Age'].mean()),inplace=True)\n",
        "df['Height'].fillna((df['Height'].mean()),inplace=True)\n",
        "df['Weight'].fillna((df['Weight'].mean()),inplace=True)\n",
        "\n",
        "# --------- Normal fill ------- #\n",
        "df['Region'].fillna(df['Team'],inplace=True)\n",
        "df['Notes'].fillna('No Notes',inplace=True)\n",
        "df['Medal'].fillna('No Medal',inplace =True)"
      ],
      "metadata": {
        "id": "nHoor4XHPTka"
      },
      "execution_count": 19,
      "outputs": []
    },
    {
      "cell_type": "markdown",
      "source": [
        "# 5. View"
      ],
      "metadata": {
        "id": "zJxAqbsNUJ4E"
      }
    },
    {
      "cell_type": "code",
      "source": [
        "df.isnull().sum() #no missing data"
      ],
      "metadata": {
        "colab": {
          "base_uri": "https://localhost:8080/"
        },
        "id": "nDQZpJHTUN28",
        "outputId": "5706a8a6-3007-42fe-8002-e43d86d4f63a"
      },
      "execution_count": 20,
      "outputs": [
        {
          "output_type": "execute_result",
          "data": {
            "text/plain": [
              "ID           0\n",
              "Name         0\n",
              "Sex          0\n",
              "Age          0\n",
              "Height       0\n",
              "Weight       0\n",
              "Team         0\n",
              "NOC          0\n",
              "Games        0\n",
              "Year         0\n",
              "Season       0\n",
              "City         0\n",
              "Sport        0\n",
              "Event        0\n",
              "Medal        0\n",
              "Region       0\n",
              "Notes        0\n",
              "miss_data    0\n",
              "dtype: int64"
            ]
          },
          "metadata": {},
          "execution_count": 20
        }
      ]
    },
    {
      "cell_type": "code",
      "source": [
        "althetes_count = len(df.ID)\n",
        "print('Total number of althetes in olymics:', althetes_count)"
      ],
      "metadata": {
        "colab": {
          "base_uri": "https://localhost:8080/"
        },
        "id": "STkkn9oBUN9i",
        "outputId": "003fe8b9-16fd-43c3-bca0-bed195804c1a"
      },
      "execution_count": 21,
      "outputs": [
        {
          "output_type": "stream",
          "name": "stdout",
          "text": [
            "Total number of althetes in olymics: 269382\n"
          ]
        }
      ]
    },
    {
      "cell_type": "code",
      "source": [
        "df.to_csv('Data/final_data.csv', index=False)"
      ],
      "metadata": {
        "id": "I4PkoXemQ5Mb"
      },
      "execution_count": 22,
      "outputs": []
    },
    {
      "cell_type": "code",
      "source": [
        ""
      ],
      "metadata": {
        "id": "3O9mhRb0UXr_"
      },
      "execution_count": null,
      "outputs": []
    }
  ]
}